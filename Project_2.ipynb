{
 "cells": [
  {
   "cell_type": "markdown",
   "id": "c34f4a27",
   "metadata": {},
   "source": [
    "# Qualitative data analysis in theory and practice - Text Mining\n",
    "<i>  Antoni Perużyński</i>"
   ]
  },
  {
   "cell_type": "markdown",
   "id": "4d58b81e",
   "metadata": {},
   "source": [
    "# Project 2"
   ]
  },
  {
   "cell_type": "code",
   "execution_count": 1,
   "id": "3aa8534d",
   "metadata": {},
   "outputs": [],
   "source": [
    "# import nltk\n",
    "# #nltk.download('stopwords')\n",
    "# #nltk.download('punkt')\n",
    "\n",
    "from nltk.corpus import stopwords\n",
    "from nltk.tokenize import word_tokenize\n",
    "from nltk.stem import PorterStemmer\n",
    "\n",
    "import re\n",
    "\n",
    "import pandas as pd\n",
    "import matplotlib.pyplot as plt\n",
    "import numpy as np\n",
    "import seaborn as sns; sns.set_theme()\n",
    "from tabulate import tabulate\n",
    "\n",
    "from wordcloud import WordCloud\n",
    "\n",
    "\n",
    "from PIL import Image\n",
    "\n",
    "import sklearn as sk\n",
    "from sklearn.feature_extraction.text import CountVectorizer, TfidfVectorizer\n",
    "from sklearn.model_selection import train_test_split\n",
    "from sklearn.ensemble import RandomForestClassifier, AdaBoostClassifier, BaggingClassifier\n",
    "from sklearn.tree import DecisionTreeClassifier\n",
    "from sklearn.svm import SVC\n",
    "from sklearn.neural_network import MLPClassifier\n",
    "from sklearn import metrics, __all__\n",
    "from sklearn.metrics import classification_report, confusion_matrix\n"
   ]
  },
  {
   "cell_type": "code",
   "execution_count": 2,
   "id": "fbf75d1b",
   "metadata": {},
   "outputs": [],
   "source": [
    "def create_bow(text: list) -> list:\n",
    "    word2count = {}\n",
    "    for word in text:\n",
    "        if word not in word2count.keys():\n",
    "            word2count[word] = 1\n",
    "        else:\n",
    "            word2count[word] += 1\n",
    "    return word2count"
   ]
  },
  {
   "cell_type": "code",
   "execution_count": 3,
   "id": "7051ee68",
   "metadata": {},
   "outputs": [],
   "source": [
    "def stopwords_function(text: str) -> str:\n",
    "\n",
    "    stop_words = stopwords.words('english')\n",
    "    #word_token = word_tokenize(text)\n",
    "    cleaned = [w for w in text if w not in stop_words]\n",
    "    return \" \".join(cleaned)"
   ]
  },
  {
   "cell_type": "code",
   "execution_count": 4,
   "id": "8d1d6cc1",
   "metadata": {},
   "outputs": [],
   "source": [
    "def stemming_function(text: str) -> list:\n",
    "    stemming = PorterStemmer()\n",
    "    txt_list = list(text.split(\" \"))\n",
    "    stemmed_txt = []\n",
    "    for w in txt_list:\n",
    "        stemmed_txt.append(stemming.stem(w))\n",
    "    return stemmed_txt"
   ]
  },
  {
   "cell_type": "code",
   "execution_count": 5,
   "id": "bb00f3dc",
   "metadata": {},
   "outputs": [],
   "source": [
    "def clean_text(txt: str) -> str:\n",
    "    find_emoticons = re.findall(r\"[:;][-]?[/\\|\\)\\(><D]\", txt)\n",
    "    txt_low = txt.lower()\n",
    "    delete_numbers = re.sub(\"[0-9]+\", \"\", txt_low)\n",
    "    delete_html = re.sub(r'<.*?>', '', delete_numbers)\n",
    "    delete_punctuation = re.sub(r\"[^\\w\\s]\", \" \", delete_html)\n",
    "    delete_whitespace = delete_punctuation.strip()\n",
    "    clean_txt = delete_whitespace + ' '.join(find_emoticons)\n",
    "    return clean_txt"
   ]
  },
  {
   "cell_type": "code",
   "execution_count": 6,
   "id": "1c5f6be1",
   "metadata": {},
   "outputs": [],
   "source": [
    "def text_tokenizer(text: str):\n",
    "\n",
    "    cleaned_text = clean_text(text)\n",
    "    tokens = word_tokenize(cleaned_text)\n",
    "    without_stopwords =stopwords_function(tokens)\n",
    "    stemmed_text = stemming_function(without_stopwords)\n",
    "\n",
    "    return [w for w in stemmed_text if len(w) > 3]"
   ]
  },
  {
   "cell_type": "code",
   "execution_count": 7,
   "id": "d66ebfe8",
   "metadata": {},
   "outputs": [],
   "source": [
    "def vectorizing(sample):\n",
    "    vectorizer1 = CountVectorizer(tokenizer=text_tokenizer)\n",
    "    X_transform_sample = vectorizer1.fit_transform(sample)\n",
    "    titles_sample = (vectorizer1.get_feature_names_out())\n",
    "    array = X_transform_sample.toarray()\n",
    "    return array, titles_sample\n",
    "\n",
    "def vectorizing_voc(sample, vocabulary):\n",
    "    vectorizer1 = CountVectorizer(tokenizer=text_tokenizer, vocabulary=vocabulary)\n",
    "    X_transform_sample = vectorizer1.fit_transform(sample)\n",
    "    titles_sample = (vectorizer1.get_feature_names_out())\n",
    "    array = X_transform_sample.toarray()\n",
    "    return array, titles_sample"
   ]
  },
  {
   "cell_type": "markdown",
   "id": "73becfb8",
   "metadata": {},
   "source": [
    "### Top10 setA minus setB\n",
    "\n",
    "Function used to take top 10 tokens which appear only in first set."
   ]
  },
  {
   "cell_type": "code",
   "execution_count": 8,
   "id": "57a079f4",
   "metadata": {},
   "outputs": [],
   "source": [
    "def Top10onlyInA(sample_A, sample_B, tit, jpg_name):\n",
    "    vectorizer1 = CountVectorizer(tokenizer=text_tokenizer)\n",
    "\n",
    "    X_transform_sample_true = vectorizer1.fit_transform(sample_A)\n",
    "    titles_A = (vectorizer1.get_feature_names_out())\n",
    "\n",
    "    X_transform_sample_fake = vectorizer1.fit_transform(sample_B)\n",
    "    titles_B = (vectorizer1.get_feature_names_out())\n",
    "\n",
    "    AwithoutB = [x for x in titles_A if x not in titles_B]\n",
    "\n",
    "    vectorizer = CountVectorizer(tokenizer=text_tokenizer, vocabulary=AwithoutB)\n",
    "    X_transform_sample = vectorizer.fit_transform(sample_A)\n",
    "\n",
    "    titles = (vectorizer.get_feature_names_out())  \n",
    "    array = X_transform_sample.toarray() \n",
    "\n",
    "    print(\"Display top 10 tokens\")\n",
    "    column_sum = np.sum(array, axis=0) \n",
    "    max_val_col = np.argpartition(column_sum, -10)[-10:]\n",
    "    top_10_quantity = column_sum[max_val_col] \n",
    "    \n",
    "    \n",
    "    top_10_tokens = []\n",
    "    for i in max_val_col:\n",
    "        top_10_tokens.append(titles[i])\n",
    "    \n",
    "\n",
    "    df_1 = pd.DataFrame({'titles': top_10_tokens, 'quantity': top_10_quantity})\n",
    "    df_1 = df_1.sort_values(by=\"quantity\")\n",
    "    plot = df_1.plot(kind='barh', x='titles', y='quantity',color='#833864', title=tit)\n",
    "    fig = plot.get_figure()\n",
    "    #fig.savefig(jpg_name+'.png')\n",
    "    plt.show()\n",
    "    df_1 = df_1.sort_values(by=\"quantity\", ascending=False)\n",
    "    print(tabulate(df_1, headers='keys', tablefmt='psql'))  \n",
    "\n",
    "    return"
   ]
  },
  {
   "cell_type": "markdown",
   "id": "cd97493c",
   "metadata": {},
   "source": [
    "### Top10_OneSet\n",
    "\n",
    "Function used to take top 10 tokens in set."
   ]
  },
  {
   "cell_type": "code",
   "execution_count": 9,
   "id": "46756417",
   "metadata": {},
   "outputs": [],
   "source": [
    "def Top10_OneSet(sample, tit, jpg_name):\n",
    "  \n",
    "    vectorizer = CountVectorizer(tokenizer=text_tokenizer)\n",
    "    X_transform_sample = vectorizer.fit_transform(sample)\n",
    "\n",
    "    titles = (vectorizer.get_feature_names_out ())  \n",
    "    array = X_transform_sample.toarray()\n",
    "\n",
    " \n",
    "    print(\"Display top 10 tokens\")\n",
    "    column_sum = np.sum(array, axis=0)  \n",
    "    max_val_col = np.argpartition(column_sum, -10)[-10:]  \n",
    "    top_10_quantity = column_sum[max_val_col]\n",
    "    \n",
    "  \n",
    "    top_10_tokens = []\n",
    "    for i in max_val_col:\n",
    "        top_10_tokens.append(titles[i])\n",
    " \n",
    "    print(top_10_tokens)\n",
    "\n",
    "    df_1 = pd.DataFrame({'titles': top_10_tokens, 'quantity': top_10_quantity})\n",
    "    df_1 = df_1.sort_values(by = \"quantity\")\n",
    "    plot = df_1.plot(kind = 'barh', x = 'titles', y = 'quantity', color = '#833864',\n",
    "                     title = tit)\n",
    "    fig = plot.get_figure()\n",
    "    #fig.savefig(jpg_name+'.png')\n",
    "    df_1 = df_1.sort_values(by = \"quantity\", ascending = False)\n",
    "    plt.show()\n",
    "    print(tabulate(df_1, headers='keys', tablefmt='psql')) \n",
    "\n",
    "    return"
   ]
  },
  {
   "cell_type": "markdown",
   "id": "38e8771a",
   "metadata": {},
   "source": [
    "### Preprocessing and exploring"
   ]
  },
  {
   "cell_type": "code",
   "execution_count": 10,
   "id": "bd8cce06",
   "metadata": {},
   "outputs": [],
   "source": [
    "import pandas as pd\n",
    "import matplotlib.pyplot as plt"
   ]
  },
  {
   "cell_type": "code",
   "execution_count": 11,
   "id": "2ec117ba",
   "metadata": {},
   "outputs": [],
   "source": [
    "df = pd.read_csv('amazon_alexa.tsv', sep='\\t')"
   ]
  },
  {
   "cell_type": "code",
   "execution_count": 12,
   "id": "d5bab313",
   "metadata": {},
   "outputs": [
    {
     "name": "stdout",
     "output_type": "stream",
     "text": [
      "<class 'pandas.core.frame.DataFrame'>\n",
      "RangeIndex: 3150 entries, 0 to 3149\n",
      "Data columns (total 5 columns):\n",
      " #   Column            Non-Null Count  Dtype \n",
      "---  ------            --------------  ----- \n",
      " 0   rating            3150 non-null   int64 \n",
      " 1   date              3150 non-null   object\n",
      " 2   variation         3150 non-null   object\n",
      " 3   verified_reviews  3150 non-null   object\n",
      " 4   feedback          3150 non-null   int64 \n",
      "dtypes: int64(2), object(3)\n",
      "memory usage: 123.2+ KB\n"
     ]
    }
   ],
   "source": [
    "df.info()"
   ]
  },
  {
   "cell_type": "code",
   "execution_count": 13,
   "id": "0593f86f",
   "metadata": {},
   "outputs": [],
   "source": [
    "df = df.drop([\"date\", \"variation\", \"feedback\"], axis=1)"
   ]
  },
  {
   "cell_type": "code",
   "execution_count": 14,
   "id": "05dd47ec",
   "metadata": {},
   "outputs": [],
   "source": [
    "#df[\"sentiment\"] = df.rating.apply(lambda x: 0 if x in [1, 2] else 1) \n",
    "df[\"Positive\"] = df[\"rating\"] >= 5"
   ]
  },
  {
   "cell_type": "code",
   "execution_count": 15,
   "id": "25eca072",
   "metadata": {},
   "outputs": [
    {
     "data": {
      "text/html": [
       "<div>\n",
       "<style scoped>\n",
       "    .dataframe tbody tr th:only-of-type {\n",
       "        vertical-align: middle;\n",
       "    }\n",
       "\n",
       "    .dataframe tbody tr th {\n",
       "        vertical-align: top;\n",
       "    }\n",
       "\n",
       "    .dataframe thead th {\n",
       "        text-align: right;\n",
       "    }\n",
       "</style>\n",
       "<table border=\"1\" class=\"dataframe\">\n",
       "  <thead>\n",
       "    <tr style=\"text-align: right;\">\n",
       "      <th></th>\n",
       "      <th>rating</th>\n",
       "      <th>verified_reviews</th>\n",
       "      <th>Positive</th>\n",
       "    </tr>\n",
       "  </thead>\n",
       "  <tbody>\n",
       "    <tr>\n",
       "      <th>0</th>\n",
       "      <td>5</td>\n",
       "      <td>Love my Echo!</td>\n",
       "      <td>True</td>\n",
       "    </tr>\n",
       "    <tr>\n",
       "      <th>1</th>\n",
       "      <td>5</td>\n",
       "      <td>Loved it!</td>\n",
       "      <td>True</td>\n",
       "    </tr>\n",
       "    <tr>\n",
       "      <th>2</th>\n",
       "      <td>4</td>\n",
       "      <td>Sometimes while playing a game, you can answer...</td>\n",
       "      <td>False</td>\n",
       "    </tr>\n",
       "    <tr>\n",
       "      <th>3</th>\n",
       "      <td>5</td>\n",
       "      <td>I have had a lot of fun with this thing. My 4 ...</td>\n",
       "      <td>True</td>\n",
       "    </tr>\n",
       "    <tr>\n",
       "      <th>4</th>\n",
       "      <td>5</td>\n",
       "      <td>Music</td>\n",
       "      <td>True</td>\n",
       "    </tr>\n",
       "  </tbody>\n",
       "</table>\n",
       "</div>"
      ],
      "text/plain": [
       "   rating                                   verified_reviews  Positive\n",
       "0       5                                      Love my Echo!      True\n",
       "1       5                                          Loved it!      True\n",
       "2       4  Sometimes while playing a game, you can answer...     False\n",
       "3       5  I have had a lot of fun with this thing. My 4 ...      True\n",
       "4       5                                              Music      True"
      ]
     },
     "execution_count": 15,
     "metadata": {},
     "output_type": "execute_result"
    }
   ],
   "source": [
    "df.head()"
   ]
  },
  {
   "cell_type": "code",
   "execution_count": 16,
   "id": "f8175e00",
   "metadata": {},
   "outputs": [
    {
     "data": {
      "image/png": "[encoded data removed]",
      "text/plain": [
       "<Figure size 864x432 with 1 Axes>"
      ]
     },
     "metadata": {
      "needs_background": "light"
     },
     "output_type": "display_data"
    }
   ],
   "source": [
    "plt.figure(figsize=(12,6))\n",
    "plt.title(\"Number of reviews with each rating\")\n",
    "colors = ['#833864','#bc5090','#c2619b','#c972a6','#d084b1','#d696bc','#dda7c7','#e4b9d2','#eacadd','#f1dce8']\n",
    "\n",
    "df['rating'].value_counts().sort_index().plot.bar(colormap='Paired')\n",
    "plt.xlabel(\"Score\")\n",
    "plt.ylabel(\"Count\")\n",
    "plt.show()"
   ]
  },
  {
   "cell_type": "markdown",
   "id": "36aad765",
   "metadata": {},
   "source": [
    "Here may appear the problem with later classification, because this dataset isn't balanced. We have much more opinions which are positive. "
   ]
  },
  {
   "cell_type": "code",
   "execution_count": 17,
   "id": "e942fa7c",
   "metadata": {},
   "outputs": [
    {
     "data": {
      "image/png": "[encoded data removed]",
      "text/plain": [
       "<Figure size 720x432 with 1 Axes>"
      ]
     },
     "metadata": {},
     "output_type": "display_data"
    }
   ],
   "source": [
    "plt.figure(figsize=(10,6))\n",
    "explode = (0.01,0.01)\n",
    "plt.pie([len(df[df[\"Positive\"] == True]),len(df[df[\"Positive\"] == False])], colors=[\"RoyalBlue\", \"Orange\"], labels=['best movies','worst movies'],autopct='%.1f%%', textprops={'color':\"w\"}, explode = explode)\n",
    "plt.legend(loc='upper right')\n",
    "plt.axis('equal')\n",
    "plt.title(\"Percentage distribution of best and worst movies\")\n",
    "plt.show()"
   ]
  },
  {
   "cell_type": "markdown",
   "id": "689f7405",
   "metadata": {},
   "source": [
    "## Classifications"
   ]
  },
  {
   "cell_type": "code",
   "execution_count": 18,
   "id": "c2aa35dd",
   "metadata": {},
   "outputs": [],
   "source": [
    "dataset_vector, dataset_opinions_1 = vectorizing(df['verified_reviews'])"
   ]
  },
  {
   "cell_type": "markdown",
   "id": "cf68b064",
   "metadata": {},
   "source": [
    "### Dividing into training and testing set"
   ]
  },
  {
   "cell_type": "code",
   "execution_count": 19,
   "id": "3260be3a",
   "metadata": {},
   "outputs": [],
   "source": [
    "X_train, X_test, y_train, y_test = train_test_split(df['verified_reviews'], df['Positive'], test_size=0.33,\n",
    "                                                    random_state=42)\n",
    "\n",
    "X_train_vector, X_train_rewievs = vectorizing_voc(X_train, dataset_opinions_1)\n",
    "X_test_vector, X_test_rewievs = vectorizing_voc(X_test, dataset_opinions_1)"
   ]
  },
  {
   "cell_type": "markdown",
   "id": "6928f5dd",
   "metadata": {},
   "source": [
    "### Decision Tree Classifier"
   ]
  },
  {
   "cell_type": "code",
   "execution_count": 20,
   "id": "23818eb6",
   "metadata": {},
   "outputs": [
    {
     "name": "stdout",
     "output_type": "stream",
     "text": [
      "Accuracy DTC: 0.775\n"
     ]
    },
    {
     "data": {
      "image/png": "[encoded data removed]",
      "text/plain": [
       "<Figure size 432x288 with 2 Axes>"
      ]
     },
     "metadata": {
      "needs_background": "light"
     },
     "output_type": "display_data"
    }
   ],
   "source": [
    "DTC = DecisionTreeClassifier()\n",
    "DTC.fit(X_train_vector, y_train)\n",
    "y_pred = DTC.predict(X_test_vector)\n",
    "print(\"Accuracy DTC:\", metrics.accuracy_score(y_test, y_pred))\n",
    "#print(\"Accuracy another way:\", DTC.score(X_test_vector, y_test))\n",
    "confusion_matrix = metrics.confusion_matrix(y_test, y_pred)\n",
    "\n",
    "cm_display = metrics.ConfusionMatrixDisplay(confusion_matrix = confusion_matrix, display_labels = [False, True])\n",
    "\n",
    "cm_display.plot(cmap = 'Blues')\n",
    "plt.grid(False)\n",
    "plt.show()"
   ]
  },
  {
   "cell_type": "code",
   "execution_count": 21,
   "id": "14265cef",
   "metadata": {},
   "outputs": [
    {
     "name": "stdout",
     "output_type": "stream",
     "text": [
      "DTC model \n",
      "               precision    recall  f1-score   support\n",
      "\n",
      "       False       0.63      0.56      0.59       303\n",
      "        True       0.83      0.86      0.84       737\n",
      "\n",
      "    accuracy                           0.78      1040\n",
      "   macro avg       0.73      0.71      0.72      1040\n",
      "weighted avg       0.77      0.78      0.77      1040\n",
      "\n"
     ]
    }
   ],
   "source": [
    "print(f'DTC model \\n {classification_report(y_test, y_pred)}')"
   ]
  },
  {
   "cell_type": "markdown",
   "id": "b31ab4f7",
   "metadata": {},
   "source": [
    "### K-Neighbors Classifier"
   ]
  },
  {
   "cell_type": "code",
   "execution_count": 22,
   "id": "a5648d34",
   "metadata": {},
   "outputs": [
    {
     "name": "stdout",
     "output_type": "stream",
     "text": [
      "Accuracy KNN: 0.75\n"
     ]
    },
    {
     "data": {
      "image/png": "[encoded data removed]",
      "text/plain": [
       "<Figure size 432x288 with 2 Axes>"
      ]
     },
     "metadata": {
      "needs_background": "light"
     },
     "output_type": "display_data"
    }
   ],
   "source": [
    "from sklearn.neighbors import KNeighborsClassifier\n",
    "classifier = KNeighborsClassifier(n_neighbors=3)\n",
    "classifier.fit(X_train_vector, y_train)\n",
    "y_pred = classifier.predict(X_test_vector)\n",
    "\n",
    "print(\"Accuracy KNN:\", metrics.accuracy_score(y_test, y_pred))\n",
    "#print(\"Accuracy another way:\", classifier.score(X_test_vector, y_test))\n",
    "\n",
    "confusion_matrix = metrics.confusion_matrix(y_test, y_pred)\n",
    "\n",
    "cm_display = metrics.ConfusionMatrixDisplay(confusion_matrix = confusion_matrix, display_labels = [False, True])\n",
    "\n",
    "cm_display.plot(cmap = 'Blues')\n",
    "plt.grid(False)\n",
    "plt.show()"
   ]
  },
  {
   "cell_type": "code",
   "execution_count": 23,
   "id": "aa902837",
   "metadata": {},
   "outputs": [
    {
     "name": "stdout",
     "output_type": "stream",
     "text": [
      "KNN model \n",
      "               precision    recall  f1-score   support\n",
      "\n",
      "       False       0.62      0.38      0.47       303\n",
      "        True       0.78      0.90      0.84       737\n",
      "\n",
      "    accuracy                           0.75      1040\n",
      "   macro avg       0.70      0.64      0.65      1040\n",
      "weighted avg       0.73      0.75      0.73      1040\n",
      "\n"
     ]
    }
   ],
   "source": [
    "print(f'KNN model \\n {classification_report(y_test, y_pred)}')"
   ]
  },
  {
   "cell_type": "markdown",
   "id": "349eee3f",
   "metadata": {},
   "source": [
    "### Neural network Classfier"
   ]
  },
  {
   "cell_type": "code",
   "execution_count": 24,
   "id": "407adf1f",
   "metadata": {},
   "outputs": [
    {
     "name": "stderr",
     "output_type": "stream",
     "text": [
      "C:\\Users\\DELL\\anaconda3\\lib\\site-packages\\sklearn\\neural_network\\_multilayer_perceptron.py:559: ConvergenceWarning: lbfgs failed to converge (status=1):\n",
      "STOP: TOTAL NO. of ITERATIONS REACHED LIMIT.\n",
      "\n",
      "Increase the number of iterations (max_iter) or scale the data as shown in:\n",
      "    https://scikit-learn.org/stable/modules/preprocessing.html\n",
      "  self.n_iter_ = _check_optimize_result(\"lbfgs\", opt_res, self.max_iter)\n"
     ]
    },
    {
     "data": {
      "image/png": "[encoded data removed]",
      "text/plain": [
       "<Figure size 432x288 with 2 Axes>"
      ]
     },
     "metadata": {
      "needs_background": "light"
     },
     "output_type": "display_data"
    }
   ],
   "source": [
    "NN = MLPClassifier(solver='lbfgs', alpha=1e-5, hidden_layer_sizes=(5, 2), random_state=1)\n",
    "NN.fit(X_train_vector, y_train)\n",
    "y_pred=NN.predict(X_test_vector)\n",
    "round(NN.score(X_test_vector,y_test), 4)\n",
    "confusion_matrix = metrics.confusion_matrix(y_test, y_pred)\n",
    "\n",
    "cm_display = metrics.ConfusionMatrixDisplay(confusion_matrix = confusion_matrix, display_labels = [False, True])\n",
    "\n",
    "cm_display.plot(cmap = 'Blues')\n",
    "plt.grid(False)\n",
    "plt.show()"
   ]
  },
  {
   "cell_type": "code",
   "execution_count": 25,
   "id": "7a7bbad0",
   "metadata": {},
   "outputs": [
    {
     "name": "stdout",
     "output_type": "stream",
     "text": [
      "NN model \n",
      "               precision    recall  f1-score   support\n",
      "\n",
      "       False       0.66      0.57      0.62       303\n",
      "        True       0.83      0.88      0.86       737\n",
      "\n",
      "    accuracy                           0.79      1040\n",
      "   macro avg       0.75      0.73      0.74      1040\n",
      "weighted avg       0.78      0.79      0.79      1040\n",
      "\n"
     ]
    }
   ],
   "source": [
    "print(f'NN model \\n {classification_report(y_test, y_pred)}')"
   ]
  },
  {
   "cell_type": "markdown",
   "id": "717adda8",
   "metadata": {},
   "source": [
    "### Random Forest Classifier"
   ]
  },
  {
   "cell_type": "code",
   "execution_count": 26,
   "id": "12364308",
   "metadata": {},
   "outputs": [
    {
     "name": "stdout",
     "output_type": "stream",
     "text": [
      "Accuracy RFC: 0.8163461538461538\n"
     ]
    },
    {
     "data": {
      "image/png": "[encoded data removed]",
      "text/plain": [
       "<Figure size 432x288 with 2 Axes>"
      ]
     },
     "metadata": {
      "needs_background": "light"
     },
     "output_type": "display_data"
    }
   ],
   "source": [
    "RFC = RandomForestClassifier()\n",
    "RFC.fit(X_train_vector, y_train)\n",
    "y_pred = RFC.predict(X_test_vector)\n",
    "print(\"Accuracy RFC:\", metrics.accuracy_score(y_test, y_pred))\n",
    "confusion_matrix = metrics.confusion_matrix(y_test, y_pred)\n",
    "\n",
    "cm_display = metrics.ConfusionMatrixDisplay(confusion_matrix = confusion_matrix, display_labels = [False, True])\n",
    "\n",
    "cm_display.plot(cmap = 'Blues')\n",
    "plt.grid(False)\n",
    "plt.show()"
   ]
  },
  {
   "cell_type": "code",
   "execution_count": 27,
   "id": "60b979fb",
   "metadata": {},
   "outputs": [
    {
     "name": "stdout",
     "output_type": "stream",
     "text": [
      "RFC model \n",
      "               precision    recall  f1-score   support\n",
      "\n",
      "       False       0.78      0.52      0.62       303\n",
      "        True       0.83      0.94      0.88       737\n",
      "\n",
      "    accuracy                           0.82      1040\n",
      "   macro avg       0.80      0.73      0.75      1040\n",
      "weighted avg       0.81      0.82      0.80      1040\n",
      "\n"
     ]
    }
   ],
   "source": [
    "print(f'RFC model \\n {classification_report(y_test, y_pred)}')"
   ]
  }
 ],
 "metadata": {
  "kernelspec": {
   "display_name": "Python 3 (ipykernel)",
   "language": "python",
   "name": "python3"
  },
  "language_info": {
   "codemirror_mode": {
    "name": "ipython",
    "version": 3
   },
   "file_extension": ".py",
   "mimetype": "text/x-python",
   "name": "python",
   "nbconvert_exporter": "python",
   "pygments_lexer": "ipython3",
   "version": "3.9.7"
  }
 },
 "nbformat": 4,
 "nbformat_minor": 5
}
